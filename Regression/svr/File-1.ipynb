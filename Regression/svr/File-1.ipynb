{
 "cells": [
  {
   "cell_type": "code",
   "execution_count": 2,
   "metadata": {},
   "outputs": [],
   "source": [
    "import pandas as pd\n",
    "import numpy as np\n",
    "import matplotlib.pyplot as plt"
   ]
  },
  {
   "cell_type": "code",
   "execution_count": 10,
   "metadata": {},
   "outputs": [
    {
     "name": "stderr",
     "output_type": "stream",
     "text": [
      "c:\\Users\\saad\\AppData\\Local\\Programs\\Python\\Python311\\Lib\\site-packages\\sklearn\\utils\\validation.py:1183: DataConversionWarning: A column-vector y was passed when a 1d array was expected. Please change the shape of y to (n_samples, ), for example using ravel().\n",
      "  y = column_or_1d(y, warn=True)\n"
     ]
    }
   ],
   "source": [
    "data=pd.read_csv('Position_Salaries.csv')\n",
    "X=data.iloc[:,1:2].values\n",
    "Y=data.iloc[:,2].values\n",
    "Y=Y.reshape(-1,1)\n",
    "# from sklearn.linear_model import LinearRegression\n",
    "\n",
    "# LinearRegression with Simple X and Y\n",
    "# from sklearn.linear_model import LinearRegression\n",
    "# lin_reg=LinearRegression()\n",
    "# lin_reg.fit(X,Y)\n",
    "\n",
    "\n",
    "# plt.scatter(X,Y,c='red')\n",
    "# plt.plot(X,lin_reg.predict(X),c='blue')\n",
    "# plt.title('Linear Regression Model')\n",
    "# plt.ylabel('salery')\n",
    "# plt.xlabel('level')\n",
    "# plt.show()\n",
    "\n",
    "\n",
    "\n",
    "\n",
    "# # Polynomial Regression with X_poly and Y\n",
    "\n",
    "# from sklearn.preprocessing import PolynomialFeatures\n",
    "# poly_reg=PolynomialFeatures(degree=4)\n",
    "# X_poly=poly_reg.fit_transform(X)\n",
    "# poly_reg.fit(X_poly,Y)\n",
    "\n",
    "\n",
    "# # LinearRegression with the poly_X\n",
    "\n",
    "# lin_reg_2=LinearRegression()\n",
    "# lin_reg_2.fit(X_poly,Y)\n",
    "\n",
    "\n",
    "# #visualize\n",
    "\n",
    "\n",
    "from sklearn.preprocessing import StandardScaler\n",
    "\n",
    "sc_x=StandardScaler()\n",
    "sc_y=StandardScaler()\n",
    "X=sc_x.fit_transform(X)     #levels\n",
    "Y=sc_y.fit_transform(Y)     # salary\n",
    "\n",
    "\n",
    "\n",
    "\n",
    "# # predicting with LinearRegression\n",
    "# # lin_reg.predict([[6.5]])\n",
    "# #predicting with Poly-Linear Regression\n",
    "# # lin_reg_2.predict([[6.5]])\n",
    "\n",
    "\n",
    "\n",
    "\n",
    "\n",
    "# #SVR\n",
    "\n",
    "\n",
    "# # Fitting SVR to the dataset\n",
    "\n",
    "from sklearn.svm import SVR\n",
    "\n",
    "regressor = SVR(kernel='rbf')\n",
    "regressor.fit(X,Y)\n",
    "y_pred= sc_y.inverse_transform(np.array([regressor.predict(sc_x.transform([[6.5]]))]))\n",
    "\n",
    "\n",
    "# plt.scatter(X,Y,c='red')\n",
    "# plt.plot(X,regressor.predict(X),c='blue')   # poly_reg.fit_transform(X) === X_poly\n",
    "# plt.title('Model by SVR')\n",
    "# plt.ylabel('salery')\n",
    "# plt.xlabel('level')\n",
    "# plt.show()\n"
   ]
  }
 ],
 "metadata": {
  "kernelspec": {
   "display_name": "Python 3",
   "language": "python",
   "name": "python3"
  },
  "language_info": {
   "codemirror_mode": {
    "name": "ipython",
    "version": 3
   },
   "file_extension": ".py",
   "mimetype": "text/x-python",
   "name": "python",
   "nbconvert_exporter": "python",
   "pygments_lexer": "ipython3",
   "version": "3.11.3"
  }
 },
 "nbformat": 4,
 "nbformat_minor": 2
}
